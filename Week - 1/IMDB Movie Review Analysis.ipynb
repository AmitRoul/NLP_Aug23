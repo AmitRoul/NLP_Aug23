{
 "cells": [
  {
   "cell_type": "code",
   "execution_count": 1,
   "id": "6f3e74d1-8e12-4db8-af55-d29c68df0c83",
   "metadata": {},
   "outputs": [
    {
     "name": "stderr",
     "output_type": "stream",
     "text": [
      "2023-08-20 15:50:04.001870: I tensorflow/core/platform/cpu_feature_guard.cc:193] This TensorFlow binary is optimized with oneAPI Deep Neural Network Library (oneDNN) to use the following CPU instructions in performance-critical operations:  AVX2 AVX512F FMA\n",
      "To enable them in other operations, rebuild TensorFlow with the appropriate compiler flags.\n",
      "2023-08-20 15:50:07.027052: E tensorflow/compiler/xla/stream_executor/cuda/cuda_driver.cc:267] failed call to cuInit: CUDA_ERROR_NO_DEVICE: no CUDA-capable device is detected\n"
     ]
    },
    {
     "name": "stdout",
     "output_type": "stream",
     "text": [
      "VOC-NOTICE: GPU memory for this assignment is capped at 1024MiB\n"
     ]
    }
   ],
   "source": [
    "import tensorflow as tf"
   ]
  },
  {
   "cell_type": "code",
   "execution_count": 7,
   "id": "91b439b6-8d5b-4d75-9622-906d9165bd0e",
   "metadata": {},
   "outputs": [],
   "source": [
    "(x_train, y_train), (x_test, y_test) = tf.keras.datasets.imdb.load_data(\n",
    "    path=\"imdb.npz\",\n",
    "    num_words=10000,\n",
    "    skip_top=5,\n",
    "    index_from=3\n",
    ")\n"
   ]
  },
  {
   "cell_type": "code",
   "execution_count": 48,
   "id": "8a4b0f38-ce4f-46d5-ab20-85edbf35cf4e",
   "metadata": {},
   "outputs": [
    {
     "data": {
      "text/plain": [
       "((25000,), (25000,))"
      ]
     },
     "execution_count": 48,
     "metadata": {},
     "output_type": "execute_result"
    }
   ],
   "source": [
    "x_train.shape, x_test.shape"
   ]
  },
  {
   "cell_type": "code",
   "execution_count": 8,
   "id": "31f1d6d7-df52-4d34-9347-8972794081be",
   "metadata": {},
   "outputs": [
    {
     "name": "stdout",
     "output_type": "stream",
     "text": [
      "[2, 14, 22, 16, 43, 530, 973, 1622, 1385, 65, 458, 4468, 66, 3941, 2, 173, 36, 256, 5, 25, 100, 43, 838, 112, 50, 670, 2, 9, 35, 480, 284, 5, 150, 2, 172, 112, 167, 2, 336, 385, 39, 2, 172, 4536, 1111, 17, 546, 38, 13, 447, 2, 192, 50, 16, 6, 147, 2025, 19, 14, 22, 2, 1920, 4613, 469, 2, 22, 71, 87, 12, 16, 43, 530, 38, 76, 15, 13, 1247, 2, 22, 17, 515, 17, 12, 16, 626, 18, 2, 5, 62, 386, 12, 8, 316, 8, 106, 5, 2, 2223, 5244, 16, 480, 66, 3785, 33, 2, 130, 12, 16, 38, 619, 5, 25, 124, 51, 36, 135, 48, 25, 1415, 33, 6, 22, 12, 215, 28, 77, 52, 5, 14, 407, 16, 82, 2, 8, 2, 107, 117, 5952, 15, 256, 2, 2, 7, 3766, 5, 723, 36, 71, 43, 530, 476, 26, 400, 317, 46, 7, 2, 2, 1029, 13, 104, 88, 2, 381, 15, 297, 98, 32, 2071, 56, 26, 141, 6, 194, 7486, 18, 2, 226, 22, 21, 134, 476, 26, 480, 5, 144, 30, 5535, 18, 51, 36, 28, 224, 92, 25, 104, 2, 226, 65, 16, 38, 1334, 88, 12, 16, 283, 5, 16, 4472, 113, 103, 32, 15, 16, 5345, 19, 178, 32]\n"
     ]
    }
   ],
   "source": [
    "print(x_train[0])  # list of indices of all the words present in the 1st moview review of the trianing set"
   ]
  },
  {
   "cell_type": "code",
   "execution_count": 9,
   "id": "be959ff9-0ba5-444b-bac8-910858d3610b",
   "metadata": {},
   "outputs": [],
   "source": [
    "import keras"
   ]
  },
  {
   "cell_type": "code",
   "execution_count": 10,
   "id": "e5e165e3-7727-4d92-b33c-5f6bbab1ddbe",
   "metadata": {},
   "outputs": [],
   "source": [
    "# Retrieve the word index file mapping words to indices\n",
    "word_index = keras.datasets.imdb.get_word_index()"
   ]
  },
  {
   "cell_type": "code",
   "execution_count": 13,
   "id": "990acf7a-3731-43c4-94ce-b8008c72eab0",
   "metadata": {},
   "outputs": [
    {
     "data": {
      "text/plain": [
       "88584"
      ]
     },
     "execution_count": 13,
     "metadata": {},
     "output_type": "execute_result"
    }
   ],
   "source": [
    "len(word_index)   # size of your full vocab !!"
   ]
  },
  {
   "cell_type": "code",
   "execution_count": 15,
   "id": "c11262fe-9131-44a2-a196-4cf239b4a77f",
   "metadata": {},
   "outputs": [],
   "source": [
    "# word_index  # the complete vocab"
   ]
  },
  {
   "cell_type": "code",
   "execution_count": 16,
   "id": "eb17046b-a6e8-499b-a6fe-474c361b89d9",
   "metadata": {},
   "outputs": [],
   "source": [
    "# Reverse the word index to obtain a dict mapping indices to words\n",
    "# And add `index_from` to indices to sync with `x_train`\n",
    "inverted_word_index = dict((i + index_from, word) for (word, i) in word_index.items())"
   ]
  },
  {
   "cell_type": "code",
   "execution_count": 19,
   "id": "1181254f-755f-4f45-9bd9-960d0403315d",
   "metadata": {},
   "outputs": [
    {
     "data": {
      "text/plain": [
       "'this'"
      ]
     },
     "execution_count": 19,
     "metadata": {},
     "output_type": "execute_result"
    }
   ],
   "source": [
    "inverted_word_index[14]"
   ]
  },
  {
   "cell_type": "code",
   "execution_count": 20,
   "id": "745e2819-f1b1-4673-a3a7-1a2894cc67ee",
   "metadata": {},
   "outputs": [],
   "source": [
    "# Update `inverted_word_index` to include `start_char` and `oov_char`\n",
    "inverted_word_index[start_char] = \"[START]\"\n",
    "inverted_word_index[oov_char] = \"[OOV]\"  # OUT OF VOCAB"
   ]
  },
  {
   "cell_type": "code",
   "execution_count": 22,
   "id": "77f32bdf-9a07-4678-babf-e6c9a25d48b5",
   "metadata": {},
   "outputs": [
    {
     "data": {
      "text/plain": [
       "\"[OOV] this film was just brilliant casting location scenery story direction everyone's really suited [OOV] part they played and you could just imagine being there robert [OOV] is an amazing actor and now [OOV] same being director [OOV] father came from [OOV] same scottish island as myself so i loved [OOV] fact there was a real connection with this film [OOV] witty remarks throughout [OOV] film were great it was just brilliant so much that i bought [OOV] film as soon as it was released for [OOV] and would recommend it to everyone to watch and [OOV] fly fishing was amazing really cried at [OOV] end it was so sad and you know what they say if you cry at a film it must have been good and this definitely was also [OOV] to [OOV] two little boy's that played [OOV] [OOV] of norman and paul they were just brilliant children are often left out of [OOV] [OOV] list i think because [OOV] stars that play them all grown up are such a big profile for [OOV] whole film but these children are amazing and should be praised for what they have done don't you think [OOV] whole story was so lovely because it was true and was someone's life after all that was shared with us all\""
      ]
     },
     "execution_count": 22,
     "metadata": {},
     "output_type": "execute_result"
    }
   ],
   "source": [
    "# Decode the first sequence in the dataset\n",
    "decoded_sequence = \" \".join(inverted_word_index[i] for i in x_train[0])\n",
    "decoded_sequence"
   ]
  },
  {
   "cell_type": "code",
   "execution_count": null,
   "id": "78ae591b-42d6-41c5-8d46-2015bf1f43af",
   "metadata": {},
   "outputs": [],
   "source": []
  },
  {
   "cell_type": "code",
   "execution_count": null,
   "id": "5b3b0e7c-ca1d-4ba3-872a-de49b31d4066",
   "metadata": {},
   "outputs": [],
   "source": [
    "# WHAT IS THE MAX LEN OF A REVIEW IN THE TRIANING SET & TEST ?\n",
    "# WHAT IS THE MIN LEN OF A REVIEW IN THE TRIANING SET & TEST ?"
   ]
  },
  {
   "cell_type": "code",
   "execution_count": 42,
   "id": "ce05ee5d-288e-41e0-8e68-591a97d56257",
   "metadata": {},
   "outputs": [
    {
     "data": {
      "text/plain": [
       "[218, 189, 141, 550, 147]"
      ]
     },
     "execution_count": 42,
     "metadata": {},
     "output_type": "execute_result"
    }
   ],
   "source": [
    "# displaying the length of the 1st 5 reviews\n",
    "[len(x_train[i]) for i in x_train][:5]"
   ]
  },
  {
   "cell_type": "code",
   "execution_count": 49,
   "id": "a58b35d1-f8ef-4ad5-bb61-b23d72ac4f24",
   "metadata": {},
   "outputs": [
    {
     "data": {
      "text/plain": [
       "(2494, 2315)"
      ]
     },
     "execution_count": 49,
     "metadata": {},
     "output_type": "execute_result"
    }
   ],
   "source": [
    "# Length of the longest reviews\n",
    "max([len(x_train[i]) for i in x_train]), max([len(x_test[i]) for i in x_test])"
   ]
  },
  {
   "cell_type": "code",
   "execution_count": 40,
   "id": "1c545444-d20d-4e16-b641-a7e856e157a8",
   "metadata": {},
   "outputs": [
    {
     "data": {
      "text/plain": [
       "(11, 7)"
      ]
     },
     "execution_count": 40,
     "metadata": {},
     "output_type": "execute_result"
    }
   ],
   "source": [
    "# Length of the longest reviews\n",
    "min([len(x_train[i]) for i in x_train]), min([len(x_test[i]) for i in x_test])"
   ]
  },
  {
   "cell_type": "code",
   "execution_count": 56,
   "id": "2bef4be1-64a4-4263-94c7-67c3535b4f95",
   "metadata": {},
   "outputs": [],
   "source": [
    "import numpy as np"
   ]
  },
  {
   "cell_type": "code",
   "execution_count": 57,
   "id": "8416765a-71e3-4bae-9081-1ef79863542a",
   "metadata": {},
   "outputs": [
    {
     "name": "stdout",
     "output_type": "stream",
     "text": [
      "11\n",
      "[2, 13, 586, 851, 14, 31, 60, 23, 2863, 2364, 314]\n"
     ]
    }
   ],
   "source": [
    "shortest_review = np.argmin([len(review) for review in x_train]) # index of the shortest review\n",
    "shortest_review_ = x_train[shortest_review]  # actual shortest review as a list of indices of the words\n",
    "print(len(shortest_review_))\n",
    "print(shortest_review_)"
   ]
  },
  {
   "cell_type": "code",
   "execution_count": 58,
   "id": "94d558ca-643b-4516-beae-6af3e52afa77",
   "metadata": {},
   "outputs": [
    {
     "name": "stdout",
     "output_type": "stream",
     "text": [
      "[OOV] i wouldn't rent this one even on dollar rental night\n"
     ]
    }
   ],
   "source": [
    "decoded_review = \" \".join(inverted_word_index.get(i, \"\") for i in shortest_review_)\n",
    "print(decoded_review)"
   ]
  },
  {
   "cell_type": "code",
   "execution_count": 59,
   "id": "8746ddf5-5971-4072-83b2-7bdc2e5bb195",
   "metadata": {},
   "outputs": [
    {
     "data": {
      "text/plain": [
       "6719"
      ]
     },
     "execution_count": 59,
     "metadata": {},
     "output_type": "execute_result"
    }
   ],
   "source": [
    "shortest_review"
   ]
  },
  {
   "cell_type": "code",
   "execution_count": 61,
   "id": "d631a631-1a3a-4cbc-a02f-079d20c2aa83",
   "metadata": {},
   "outputs": [
    {
     "name": "stdout",
     "output_type": "stream",
     "text": [
      "[OOV] match 1 tag team table match [OOV] ray and spike dudley vs eddie [OOV] and chris benoit [OOV] ray and spike dudley started things off with a tag team table match against eddie [OOV] and chris benoit according to [OOV] rules of [OOV] match both opponents have to go through tables in order to get [OOV] win benoit and [OOV] [OOV] up early on by taking turns [OOV] first spike and then [OOV] ray a german [OOV] by benoit to [OOV] took [OOV] wind out of [OOV] dudley brother spike tried to help his brother but [OOV] [OOV] restrained him while benoit and [OOV] [OOV] up on him in [OOV] corner with benoit [OOV] away on [OOV] [OOV] set up a table outside spike [OOV] into [OOV] ring and [OOV] over [OOV] top rope onto [OOV] on [OOV] outside after recovering and taking care of spike [OOV] slipped a table into [OOV] ring and helped [OOV] [OOV] set it up [OOV] [OOV] then set up for a double [OOV] from [OOV] middle rope which would have put [OOV] through [OOV] table but spike knocked [OOV] table over right before his brother came crashing down [OOV] and benoit [OOV] another table in [OOV] corner and tried to irish whip spike through it but [OOV] [OOV] in and [OOV] his brother [OOV] caught fire and lifted both opponents into back body drops [OOV] [OOV] [OOV] and spike [OOV] on [OOV] [OOV] from off [OOV] top rope [OOV] held benoit at bay for spike to [OOV] into [OOV] [OOV] [OOV] shortly after benoit [OOV] spike in [OOV] [OOV] but [OOV] match continued even after spike [OOV] out [OOV] came to his brother's rescue and managed to [OOV] benoit on a table [OOV] [OOV] from [OOV] middle rope but benoit moved and sent [OOV] crashing through [OOV] wood but because his opponents didn't force him through [OOV] table [OOV] was allowed to stay in [OOV] match [OOV] first man was eliminated shortly after though as spike put eddie through a table with a dudley [OOV] from [OOV] ring [OOV] to [OOV] outside benoit put spike through a table moments later to even [OOV] score within seconds [OOV] nailed a [OOV] bomb that put benoit through a table and gave [OOV] [OOV] [OOV] win winner [OOV] ray and spike dudley br br match 2 [OOV] championship jamie noble vs billy kidman billy kidman challenged jamie noble who brought [OOV] with him to [OOV] ring for [OOV] [OOV] championship noble and kidman locked up and [OOV] over [OOV] ring but [OOV] back inside and [OOV] some more when kidman [OOV] all [OOV] moves noble [OOV] outside [OOV] ring where [OOV] gave him some [OOV] [OOV] fight spread outside [OOV] ring and noble threw his girlfriend into [OOV] [OOV] kidman tossed [OOV] aside but was taken down with a [OOV] arm bar noble continued to attack [OOV] injured arm back in [OOV] ring [OOV] injured harm [OOV] his offense but he continued to battle hard noble tried to put kidman away with a [OOV] but [OOV] [OOV] [OOV] into a [OOV] kidman went to finish things with a shooting star press but noble broke up [OOV] attempt kidman went for [OOV] shooting star press again but this time noble just rolled out of [OOV] way noble [OOV] kidman into a power bomb soon after and got [OOV] pin to retain his wwe [OOV] championship winner jamie noble br br match 3 european championship william regal vs jeff hardy william regal took on jeff hardy next in an attempt to win back [OOV] european championship jeff [OOV] regal over [OOV] top rope then took him down with a [OOV] off [OOV] ring [OOV] back in [OOV] ring jeff hit [OOV] [OOV] in [OOV] wind to knock regal for a loop jeff went for [OOV] [OOV] bomb but regal got his knees up to hit jeff with a devastating shot jeff managed to surprise regal with a quick [OOV] though and got [OOV] pin to keep [OOV] european championship regal started [OOV] at seeing hardy celebrate on his way back up [OOV] [OOV] winner jeff hardy br br match 4 chris [OOV] vs john cena chris [OOV] had promised to end john [OOV] career in their match at vengeance which came up next [OOV] tried to teach cena a lesson as their match began by [OOV] him to [OOV] [OOV] [OOV] continued to knock cena around [OOV] ring until his [OOV] got [OOV] better of him while on [OOV] top rope [OOV] began to [OOV] and allowed cena to grab him for a [OOV] cena followed with a [OOV] a [OOV] slam but was taken down with a nasty [OOV] to [OOV] gut [OOV] rookie [OOV] and hit a belly to belly [OOV] but couldn't put [OOV] away [OOV] launched into [OOV] [OOV] but cena [OOV] [OOV] move [OOV] nailed a [OOV] and then connected on [OOV] [OOV] but did not go for [OOV] cover he [OOV] cena to his feet so he could put on [OOV] walls of [OOV] cena had other ideas [OOV] [OOV] move into a pin attempt and getting [OOV] 1 2 3 [OOV] went [OOV] after [OOV] match winner john cena br br match 5 [OOV] championship [OOV] vs [OOV] [OOV] via [OOV] [OOV] next big thing and mr pay per view [OOV] with [OOV] [OOV] championship on [OOV] line [OOV] grabbed [OOV] title from [OOV] [OOV] and [OOV] it over his shoulder [OOV] while glaring at [OOV] van [OOV] 's [OOV] gave [OOV] fits early on [OOV] big man rolled out of [OOV] ring and kicked [OOV] steel steps out of frustration [OOV] pulled himself together and began to take charge with paul [OOV] [OOV] at [OOV] [OOV] [OOV] [OOV] to [OOV] hard floor outside [OOV] ring from there [OOV] began to [OOV] [OOV] throwing him with ease over [OOV] top rope [OOV] landed painfully on his back then had to suffer from having his spine [OOV] against [OOV] steel ring steps [OOV] fight returned to [OOV] ring with [OOV] [OOV] [OOV] around [OOV] [OOV] [OOV] broke away and soon after [OOV] [OOV] with a kick to [OOV] temple [OOV] followed with [OOV] rolling thunder but [OOV] managed to kick out after a two count [OOV] fight looked like it might be over soon as [OOV] went for a five star frog [OOV] [OOV] though [OOV] van [OOV] onto his shoulder and went for [OOV] f 5 but [OOV] [OOV] [OOV] into a [OOV] and followed with [OOV] frog [OOV] he went for [OOV] pin but [OOV] pulled [OOV] [OOV] from [OOV] ring [OOV] [OOV] immediately called for a [OOV] and soon [OOV] blows with [OOV] after [OOV] [OOV] onto [OOV] from [OOV] top rope and then threatened to hit [OOV] van terminator [OOV] grabbed [OOV] leg and [OOV] picked up [OOV] [OOV] and this time connected with [OOV] f 5 onto a steel chair winner [OOV] br br match 6 booker t vs [OOV] big show booker t faced [OOV] big show one on one next show [OOV] booker [OOV] kicks and punches and slapped booker into [OOV] corner after being thrown from [OOV] ring booker picked up a chair at [OOV] but big show [OOV] it back into [OOV] face booker tried to get back into [OOV] game by [OOV] show with a camera cable at [OOV] booker [OOV] a tv [OOV] from [OOV] spanish [OOV] position into show's skull then delivered a [OOV] kick that put both men through [OOV] table booker [OOV] back into [OOV] ring and big show [OOV] in moments later show grabbed [OOV] throat but was met by a low blow and a kick to [OOV] face booker [OOV] [OOV] top rope and nailed a [OOV] leg drop to get [OOV] pin winner booker t br br [OOV] triple h entered [OOV] ring to a [OOV] [OOV] as fans hoped to learn where [OOV] game would end up competing before he could speak eric [OOV] stopped [OOV] game to apologize for getting involved in his personal business if triple h signed with raw [OOV] promised his personal life would never come into play again [OOV] said he's spent [OOV] past two years [OOV] in hollywood he said everyone was looking for [OOV] next [OOV] wwe superstar and they were all talking about triple h [OOV] guaranteed that if triple h signed with raw he'd be getting top opportunities coming his way stephanie [OOV] stepped out to issue her own pitch she said that because of her personal history with triple h [OOV] two of them know each other very well she said [OOV] two of them were once [OOV] and they can be again [OOV] cut her off and [OOV] her to stop stephanie [OOV] that triple h once told her how [OOV] said triple h had no talent and no charisma [OOV] said he was young at [OOV] time and didn't know what he had but he still has a lot more experience that stephanie [OOV] two continued to [OOV] back and forth until triple h stepped up with his [OOV] [OOV] game said it would be easy to say screw you to either one of them triple h went to shake [OOV] hand but pulled it away he said he would rather go with [OOV] devil he knows rather than [OOV] one he doesn't know before he could go any further though shawn michaels came out to shake things up [OOV] said [OOV] last thing he wanted to do was cause any trouble he didn't want to get involved but he remembered [OOV] to bring triple h to [OOV] [OOV] [OOV] said there's nobody in [OOV] world that triple h is better friends with [OOV] told his friend to imagine [OOV] two back together again making [OOV] life a living hell triple h said that was a [OOV] offer he then turned and [OOV] [OOV] making official his switch to raw triple h and [OOV] left and [OOV] [OOV] over his victory [OOV] said [OOV] difference between [OOV] two of them is that he's got [OOV] and she doesn't stephanie whacked [OOV] on [OOV] side of [OOV] head and left br br match 7 tag team championship match christian and lance storm vs hollywood hogan and edge [OOV] match started with loud usa [OOV] and with hogan [OOV] christian through [OOV] [OOV] and out of [OOV] ring [OOV] [OOV] took over from there but edge scored a kick to [OOV] head and planted a [OOV] on storm to get [OOV] tag to hogan hogan began to hulk up and soon caught christian with a big boot and a leg drop storm broke up [OOV] count and christian tossed hogan from [OOV] ring where storm [OOV] [OOV] icon edge [OOV] in soon after and dropped both opponents he [OOV] both of them into [OOV] corner [OOV] but missed a [OOV] on [OOV] and hit [OOV] [OOV] hard instead edge nailed a [OOV] but [OOV] [OOV] was down and could not count test [OOV] down and took down hogan then [OOV] edge with a boot storm tried to get [OOV] pin but edge kicked out after two [OOV] [OOV] in to [OOV] off test allowing edge to recover and [OOV] storm christian distracted [OOV] [OOV] though and [OOV] [OOV] in and [OOV] edge with [OOV] tag team championship storm rolled over and got [OOV] [OOV] to win [OOV] title winners and new tag team [OOV] christian and lance storm br br match 8 wwe [OOV] championship triple threat match [OOV] rock vs kurt angle and [OOV] undertaker three of [OOV] most successful [OOV] [OOV] up against each other in a triple threat match with [OOV] [OOV] championship hanging in [OOV] balance taker and [OOV] rock got face to face with kurt angle begging for some attention off to [OOV] side he got attention in [OOV] form of a beat down form [OOV] two other men soon after taker [OOV] out of [OOV] ring and [OOV] rock [OOV] with angle angle gave a series of [OOV] that took down rock but [OOV] great one [OOV] with a [OOV] that managed a two count [OOV] fight continued outside [OOV] ring with taker coming to life and [OOV] angle and repeatedly [OOV] [OOV] rock taker and rock got into it back into [OOV] ring and taker dropped [OOV] rock with a sidewalk slam to get a two count rock [OOV] grabbed taker by [OOV] throat and [OOV] him angle broke up [OOV] pin attempt that likely would have given [OOV] rock [OOV] title [OOV] rock [OOV] by [OOV] on [OOV] [OOV] lock to kurt angle angle [OOV] [OOV] move and rock [OOV] [OOV] people's champion soon after [OOV] rock [OOV] of angle and hit [OOV] people's [OOV] on [OOV] undertaker angle tried to take advantage by [OOV] [OOV] great one outside [OOV] ring and covering taker who kicked out after a two count outside [OOV] ring rock took a big [OOV] from a nearby water bottle and [OOV] [OOV] [OOV] into [OOV] face to blind [OOV] champion taker didn't stay disabled for long and managed to [OOV] rock and turn his attention to angle taker landed a [OOV] leg drop onto angle laying on [OOV] ring [OOV] [OOV] rock picked himself up just in time to break up a pin attempt on kurt angle taker nailed rock with a [OOV] and set him up for a [OOV] angle tried [OOV] up with a steel chair but taker caught on to that [OOV] and [OOV] it out of his hands [OOV] [OOV] got caught in [OOV] ensuing fire and didn't see angle knock taker silly with a steel chair angle went to cover taker as [OOV] rock lay prone but [OOV] dead man somehow got his shoulder up angle tried to pin rock but he too kicked out [OOV] rock got up and landed angle in [OOV] [OOV] angle looked like he was about to tap but taker kicked [OOV] rock out of [OOV] [OOV] hold taker picked rock up and crashed him with [OOV] last ride while [OOV] dead man covered him for [OOV] win angle [OOV] in and picked taker up in [OOV] [OOV] lock taker went delirious with pain but managed to counter he picked angle up for [OOV] last ride but angle put on a triangle choke it looked like taker was about to pass out but [OOV] rock broke [OOV] hold only to find himself caught in [OOV] [OOV] lock rock got out of [OOV] hold and watched taker [OOV] angle rocky hit [OOV] rock bottom but taker refused to go down and kicked out angle [OOV] taker up into [OOV] angle slam but was rock [OOV] by [OOV] great one and [OOV] winner and new wwe champion [OOV] rock br br finally there is a decent [OOV] lately [OOV] [OOV] weren't very good but this one was a winner i give this [OOV] a a br br\n"
     ]
    }
   ],
   "source": [
    "longest_review = np.argmax([len(review) for review in x_train]) # index of the shortest review\n",
    "longest_review_ = x_train[longest_review]  # actual shortest review as a list of indices of the words\n",
    "decoded_longest_review = \" \".join(inverted_word_index.get(i, \"\") for i in longest_review_)\n",
    "print(decoded_longest_review)"
   ]
  },
  {
   "cell_type": "code",
   "execution_count": null,
   "id": "32384944-9053-4633-b23f-edfd97baeee2",
   "metadata": {},
   "outputs": [],
   "source": []
  }
 ],
 "metadata": {
  "kernelspec": {
   "display_name": "Python 3 [3.10]",
   "language": "python",
   "name": "python3"
  },
  "language_info": {
   "codemirror_mode": {
    "name": "ipython",
    "version": 3
   },
   "file_extension": ".py",
   "mimetype": "text/x-python",
   "name": "python",
   "nbconvert_exporter": "python",
   "pygments_lexer": "ipython3",
   "version": "3.10.2"
  }
 },
 "nbformat": 4,
 "nbformat_minor": 5
}
